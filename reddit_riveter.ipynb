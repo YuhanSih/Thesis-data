{
 "cells": [
  {
   "cell_type": "markdown",
   "id": "0118f346-2bd7-4451-850d-3b53b2443bb1",
   "metadata": {},
   "source": [
    "This notebook uses riveter Rashkin's sentiment frames to identify and extract the subjects, verbs, and direct objects in comments and analyze the sentiment towards some certain persona."
   ]
  },
  {
   "cell_type": "markdown",
   "id": "XgC2WOG_eEXM",
   "metadata": {
    "id": "XgC2WOG_eEXM"
   },
   "source": [
    "**Load the data**"
   ]
  },
  {
   "cell_type": "code",
   "execution_count": 3,
   "id": "7-WAzM2J2M4P",
   "metadata": {
    "colab": {
     "base_uri": "https://localhost:8080/"
    },
    "id": "7-WAzM2J2M4P",
    "outputId": "31415c60-8e50-4ddc-bc52-fa11de47ac16"
   },
   "outputs": [
    {
     "name": "stdout",
     "output_type": "stream",
     "text": [
      "Drive already mounted at /content/gdrive; to attempt to forcibly remount, call drive.mount(\"/content/gdrive\", force_remount=True).\n"
     ]
    }
   ],
   "source": [
    "from google.colab import drive\n",
    "drive.mount('/content/gdrive')"
   ]
  },
  {
   "cell_type": "code",
   "execution_count": 4,
   "id": "e46ffecd-3d5c-4dc3-8011-c34660ddd2f5",
   "metadata": {
    "id": "e46ffecd-3d5c-4dc3-8011-c34660ddd2f5"
   },
   "outputs": [],
   "source": [
    "import pandas as pd"
   ]
  },
  {
   "cell_type": "code",
   "execution_count": 5,
   "id": "35b0559c-1840-445c-9d39-21f70fc71a0f",
   "metadata": {
    "id": "35b0559c-1840-445c-9d39-21f70fc71a0f"
   },
   "outputs": [],
   "source": [
    "df = pd.read_csv('/content/gdrive/MyDrive/reddit/reddit_comments.csv', encoding='utf-8', index_col=0, sep=';')"
   ]
  },
  {
   "cell_type": "code",
   "execution_count": 56,
   "id": "_7vk4U0bFZAI",
   "metadata": {
    "colab": {
     "base_uri": "https://localhost:8080/",
     "height": 206
    },
    "id": "_7vk4U0bFZAI",
    "outputId": "9456ebc6-b305-4fcc-faa4-b1d976057e63"
   },
   "outputs": [
    {
     "data": {
      "application/vnd.google.colaboratory.intrinsic+json": {
       "summary": "{\n  \"name\": \"df\",\n  \"rows\": 195,\n  \"fields\": [\n    {\n      \"column\": \"comments\",\n      \"properties\": {\n        \"dtype\": \"string\",\n        \"num_unique_values\": 189,\n        \"samples\": [\n          \"Bc it\\u2019s sad and people don\\u2019t understand how hard it is to end such a show and keep everyone happy. Reactions to ending is only bad in the US\\n\\n\",\n          \"It's almost certainly not 'widely'. Compared to all the enormity of everyone who read the ending, they're a small group, just really loud.\\n\\n\",\n          \"Firstly, if you enjoyed the ending, that's great. You don't need to love/hate it just because someone else thinks you should, but +1 for being open to discussing it.\\nThat said here's the reasons. Covers the tl;dr for most major issues people have:\\n\\nYmir loving King Fritz is nuts unless we're meant to believe she's got Stockholm syndrome. Ch. 123 made it clear her motivations were to be free from being a slave, so where did this \\\"discovering love through Mikasa\\\" nonesense come from?\\nEren responsible for his mother's death is a plot hole that added nothing to the story.\\nConnie/Jean's titan transformation/death turned out to be just suspense/drama bait as the consequences were immediately undone.\\nEren's best reasoning for the rumbling is \\\"I don't know\\\", which undermines his character/motivations. Eg Eren's  repeatedly established \\\"keep moving forward until all my enemies are destroyed\\\", but that's been thrown out and now he doesn't know?\\nArmin's \\\"we're not titans anymore, trust me bro\\\" is shallow and half-baked. It's not the kind of thing you can slap onto one panel and call it good.\\nThe alliance's blatant plot armor was through the roof. Kills any suspension of disbelief.\\nHistoria seemingly was retconned out the story. What was the point of her child?\\nEren rumbles 80% of the world and, of all things, his primary concern is about Mikasa finding another man. Selfish and childish. Where did this plot thread even come from?\\nThe rumbling amounted to nothing, Paradis got bombed anyways. 50 year plan could've had the exact same outcome but without risking everyone's lives.\\nThe open ending \\\"Beren next generations\\\" could've been presented better.\\nReiner letter-sniffing was funny, but it's a symptom of a more major problem which is that we got no real conclusion for most of the main cast and their plot threads. What happened to Reiner, Annie, Historia? Who knows, but at least Reiner's the big Historia simp, right??\\n\\n\\n\"\n        ],\n        \"semantic_type\": \"\",\n        \"description\": \"\"\n      }\n    },\n    {\n      \"column\": \"comment_id\",\n      \"properties\": {\n        \"dtype\": \"number\",\n        \"std\": 56,\n        \"min\": 0,\n        \"max\": 194,\n        \"num_unique_values\": 195,\n        \"samples\": [\n          138,\n          16,\n          155\n        ],\n        \"semantic_type\": \"\",\n        \"description\": \"\"\n      }\n    }\n  ]\n}",
       "type": "dataframe",
       "variable_name": "df"
      },
      "text/html": [
       "\n",
       "  <div id=\"df-c16c543d-6b14-4f75-8ef9-4da6367141f1\" class=\"colab-df-container\">\n",
       "    <div>\n",
       "<style scoped>\n",
       "    .dataframe tbody tr th:only-of-type {\n",
       "        vertical-align: middle;\n",
       "    }\n",
       "\n",
       "    .dataframe tbody tr th {\n",
       "        vertical-align: top;\n",
       "    }\n",
       "\n",
       "    .dataframe thead th {\n",
       "        text-align: right;\n",
       "    }\n",
       "</style>\n",
       "<table border=\"1\" class=\"dataframe\">\n",
       "  <thead>\n",
       "    <tr style=\"text-align: right;\">\n",
       "      <th></th>\n",
       "      <th>comments</th>\n",
       "      <th>comment_id</th>\n",
       "    </tr>\n",
       "  </thead>\n",
       "  <tbody>\n",
       "    <tr>\n",
       "      <th>0</th>\n",
       "      <td>Idk what ya’ll are mad about. I’m pretty excit...</td>\n",
       "      <td>0</td>\n",
       "    </tr>\n",
       "    <tr>\n",
       "      <th>1</th>\n",
       "      <td>Can't wait to see a crippled Levi fighting din...</td>\n",
       "      <td>1</td>\n",
       "    </tr>\n",
       "    <tr>\n",
       "      <th>2</th>\n",
       "      <td>Can't wait for when Bellen Kristein would figh...</td>\n",
       "      <td>2</td>\n",
       "    </tr>\n",
       "    <tr>\n",
       "      <th>3</th>\n",
       "      <td>Honestly speaking I wouldn't mind reading it (...</td>\n",
       "      <td>3</td>\n",
       "    </tr>\n",
       "    <tr>\n",
       "      <th>4</th>\n",
       "      <td>Beren is stunning, the ending is bad.\\nReasons...</td>\n",
       "      <td>4</td>\n",
       "    </tr>\n",
       "  </tbody>\n",
       "</table>\n",
       "</div>\n",
       "    <div class=\"colab-df-buttons\">\n",
       "\n",
       "  <div class=\"colab-df-container\">\n",
       "    <button class=\"colab-df-convert\" onclick=\"convertToInteractive('df-c16c543d-6b14-4f75-8ef9-4da6367141f1')\"\n",
       "            title=\"Convert this dataframe to an interactive table.\"\n",
       "            style=\"display:none;\">\n",
       "\n",
       "  <svg xmlns=\"http://www.w3.org/2000/svg\" height=\"24px\" viewBox=\"0 -960 960 960\">\n",
       "    <path d=\"M120-120v-720h720v720H120Zm60-500h600v-160H180v160Zm220 220h160v-160H400v160Zm0 220h160v-160H400v160ZM180-400h160v-160H180v160Zm440 0h160v-160H620v160ZM180-180h160v-160H180v160Zm440 0h160v-160H620v160Z\"/>\n",
       "  </svg>\n",
       "    </button>\n",
       "\n",
       "  <style>\n",
       "    .colab-df-container {\n",
       "      display:flex;\n",
       "      gap: 12px;\n",
       "    }\n",
       "\n",
       "    .colab-df-convert {\n",
       "      background-color: #E8F0FE;\n",
       "      border: none;\n",
       "      border-radius: 50%;\n",
       "      cursor: pointer;\n",
       "      display: none;\n",
       "      fill: #1967D2;\n",
       "      height: 32px;\n",
       "      padding: 0 0 0 0;\n",
       "      width: 32px;\n",
       "    }\n",
       "\n",
       "    .colab-df-convert:hover {\n",
       "      background-color: #E2EBFA;\n",
       "      box-shadow: 0px 1px 2px rgba(60, 64, 67, 0.3), 0px 1px 3px 1px rgba(60, 64, 67, 0.15);\n",
       "      fill: #174EA6;\n",
       "    }\n",
       "\n",
       "    .colab-df-buttons div {\n",
       "      margin-bottom: 4px;\n",
       "    }\n",
       "\n",
       "    [theme=dark] .colab-df-convert {\n",
       "      background-color: #3B4455;\n",
       "      fill: #D2E3FC;\n",
       "    }\n",
       "\n",
       "    [theme=dark] .colab-df-convert:hover {\n",
       "      background-color: #434B5C;\n",
       "      box-shadow: 0px 1px 3px 1px rgba(0, 0, 0, 0.15);\n",
       "      filter: drop-shadow(0px 1px 2px rgba(0, 0, 0, 0.3));\n",
       "      fill: #FFFFFF;\n",
       "    }\n",
       "  </style>\n",
       "\n",
       "    <script>\n",
       "      const buttonEl =\n",
       "        document.querySelector('#df-c16c543d-6b14-4f75-8ef9-4da6367141f1 button.colab-df-convert');\n",
       "      buttonEl.style.display =\n",
       "        google.colab.kernel.accessAllowed ? 'block' : 'none';\n",
       "\n",
       "      async function convertToInteractive(key) {\n",
       "        const element = document.querySelector('#df-c16c543d-6b14-4f75-8ef9-4da6367141f1');\n",
       "        const dataTable =\n",
       "          await google.colab.kernel.invokeFunction('convertToInteractive',\n",
       "                                                    [key], {});\n",
       "        if (!dataTable) return;\n",
       "\n",
       "        const docLinkHtml = 'Like what you see? Visit the ' +\n",
       "          '<a target=\"_blank\" href=https://colab.research.google.com/notebooks/data_table.ipynb>data table notebook</a>'\n",
       "          + ' to learn more about interactive tables.';\n",
       "        element.innerHTML = '';\n",
       "        dataTable['output_type'] = 'display_data';\n",
       "        await google.colab.output.renderOutput(dataTable, element);\n",
       "        const docLink = document.createElement('div');\n",
       "        docLink.innerHTML = docLinkHtml;\n",
       "        element.appendChild(docLink);\n",
       "      }\n",
       "    </script>\n",
       "  </div>\n",
       "\n",
       "\n",
       "<div id=\"df-d9c1ccda-d069-408e-a68a-63c1fbf52dd4\">\n",
       "  <button class=\"colab-df-quickchart\" onclick=\"quickchart('df-d9c1ccda-d069-408e-a68a-63c1fbf52dd4')\"\n",
       "            title=\"Suggest charts\"\n",
       "            style=\"display:none;\">\n",
       "\n",
       "<svg xmlns=\"http://www.w3.org/2000/svg\" height=\"24px\"viewBox=\"0 0 24 24\"\n",
       "     width=\"24px\">\n",
       "    <g>\n",
       "        <path d=\"M19 3H5c-1.1 0-2 .9-2 2v14c0 1.1.9 2 2 2h14c1.1 0 2-.9 2-2V5c0-1.1-.9-2-2-2zM9 17H7v-7h2v7zm4 0h-2V7h2v10zm4 0h-2v-4h2v4z\"/>\n",
       "    </g>\n",
       "</svg>\n",
       "  </button>\n",
       "\n",
       "<style>\n",
       "  .colab-df-quickchart {\n",
       "      --bg-color: #E8F0FE;\n",
       "      --fill-color: #1967D2;\n",
       "      --hover-bg-color: #E2EBFA;\n",
       "      --hover-fill-color: #174EA6;\n",
       "      --disabled-fill-color: #AAA;\n",
       "      --disabled-bg-color: #DDD;\n",
       "  }\n",
       "\n",
       "  [theme=dark] .colab-df-quickchart {\n",
       "      --bg-color: #3B4455;\n",
       "      --fill-color: #D2E3FC;\n",
       "      --hover-bg-color: #434B5C;\n",
       "      --hover-fill-color: #FFFFFF;\n",
       "      --disabled-bg-color: #3B4455;\n",
       "      --disabled-fill-color: #666;\n",
       "  }\n",
       "\n",
       "  .colab-df-quickchart {\n",
       "    background-color: var(--bg-color);\n",
       "    border: none;\n",
       "    border-radius: 50%;\n",
       "    cursor: pointer;\n",
       "    display: none;\n",
       "    fill: var(--fill-color);\n",
       "    height: 32px;\n",
       "    padding: 0;\n",
       "    width: 32px;\n",
       "  }\n",
       "\n",
       "  .colab-df-quickchart:hover {\n",
       "    background-color: var(--hover-bg-color);\n",
       "    box-shadow: 0 1px 2px rgba(60, 64, 67, 0.3), 0 1px 3px 1px rgba(60, 64, 67, 0.15);\n",
       "    fill: var(--button-hover-fill-color);\n",
       "  }\n",
       "\n",
       "  .colab-df-quickchart-complete:disabled,\n",
       "  .colab-df-quickchart-complete:disabled:hover {\n",
       "    background-color: var(--disabled-bg-color);\n",
       "    fill: var(--disabled-fill-color);\n",
       "    box-shadow: none;\n",
       "  }\n",
       "\n",
       "  .colab-df-spinner {\n",
       "    border: 2px solid var(--fill-color);\n",
       "    border-color: transparent;\n",
       "    border-bottom-color: var(--fill-color);\n",
       "    animation:\n",
       "      spin 1s steps(1) infinite;\n",
       "  }\n",
       "\n",
       "  @keyframes spin {\n",
       "    0% {\n",
       "      border-color: transparent;\n",
       "      border-bottom-color: var(--fill-color);\n",
       "      border-left-color: var(--fill-color);\n",
       "    }\n",
       "    20% {\n",
       "      border-color: transparent;\n",
       "      border-left-color: var(--fill-color);\n",
       "      border-top-color: var(--fill-color);\n",
       "    }\n",
       "    30% {\n",
       "      border-color: transparent;\n",
       "      border-left-color: var(--fill-color);\n",
       "      border-top-color: var(--fill-color);\n",
       "      border-right-color: var(--fill-color);\n",
       "    }\n",
       "    40% {\n",
       "      border-color: transparent;\n",
       "      border-right-color: var(--fill-color);\n",
       "      border-top-color: var(--fill-color);\n",
       "    }\n",
       "    60% {\n",
       "      border-color: transparent;\n",
       "      border-right-color: var(--fill-color);\n",
       "    }\n",
       "    80% {\n",
       "      border-color: transparent;\n",
       "      border-right-color: var(--fill-color);\n",
       "      border-bottom-color: var(--fill-color);\n",
       "    }\n",
       "    90% {\n",
       "      border-color: transparent;\n",
       "      border-bottom-color: var(--fill-color);\n",
       "    }\n",
       "  }\n",
       "</style>\n",
       "\n",
       "  <script>\n",
       "    async function quickchart(key) {\n",
       "      const quickchartButtonEl =\n",
       "        document.querySelector('#' + key + ' button');\n",
       "      quickchartButtonEl.disabled = true;  // To prevent multiple clicks.\n",
       "      quickchartButtonEl.classList.add('colab-df-spinner');\n",
       "      try {\n",
       "        const charts = await google.colab.kernel.invokeFunction(\n",
       "            'suggestCharts', [key], {});\n",
       "      } catch (error) {\n",
       "        console.error('Error during call to suggestCharts:', error);\n",
       "      }\n",
       "      quickchartButtonEl.classList.remove('colab-df-spinner');\n",
       "      quickchartButtonEl.classList.add('colab-df-quickchart-complete');\n",
       "    }\n",
       "    (() => {\n",
       "      let quickchartButtonEl =\n",
       "        document.querySelector('#df-d9c1ccda-d069-408e-a68a-63c1fbf52dd4 button');\n",
       "      quickchartButtonEl.style.display =\n",
       "        google.colab.kernel.accessAllowed ? 'block' : 'none';\n",
       "    })();\n",
       "  </script>\n",
       "</div>\n",
       "    </div>\n",
       "  </div>\n"
      ],
      "text/plain": [
       "                                            comments  comment_id\n",
       "0  Idk what ya’ll are mad about. I’m pretty excit...           0\n",
       "1  Can't wait to see a crippled Levi fighting din...           1\n",
       "2  Can't wait for when Bellen Kristein would figh...           2\n",
       "3  Honestly speaking I wouldn't mind reading it (...           3\n",
       "4  Beren is stunning, the ending is bad.\\nReasons...           4"
      ]
     },
     "execution_count": 56,
     "metadata": {},
     "output_type": "execute_result"
    }
   ],
   "source": [
    "#create the comment_id column\n",
    "df.reset_index(drop=True, inplace=True)\n",
    "df['comment_id'] = df.index\n",
    "df.head()"
   ]
  },
  {
   "cell_type": "markdown",
   "id": "WZaWH4hp-vGw",
   "metadata": {
    "id": "WZaWH4hp-vGw"
   },
   "source": [
    "**Install Riveter**"
   ]
  },
  {
   "cell_type": "code",
   "execution_count": 7,
   "id": "Ff4xX5yX80Ca",
   "metadata": {
    "id": "Ff4xX5yX80Ca"
   },
   "outputs": [],
   "source": [
    "colab_directory_path = '/content/gdrive/MyDrive/riveter-test'"
   ]
  },
  {
   "cell_type": "code",
   "execution_count": 8,
   "id": "d-KRaRDj-10Y",
   "metadata": {
    "colab": {
     "base_uri": "https://localhost:8080/"
    },
    "id": "d-KRaRDj-10Y",
    "outputId": "5da177b0-5111-41bb-934b-082e9e3ebf92"
   },
   "outputs": [
    {
     "name": "stdout",
     "output_type": "stream",
     "text": [
      "mkdir: cannot create directory ‘/content/gdrive/MyDrive/riveter-test’: File exists\n"
     ]
    }
   ],
   "source": [
    "%mkdir /content/gdrive/MyDrive/riveter-test"
   ]
  },
  {
   "cell_type": "code",
   "execution_count": 9,
   "id": "HWUupmHA-4Ar",
   "metadata": {
    "colab": {
     "base_uri": "https://localhost:8080/"
    },
    "id": "HWUupmHA-4Ar",
    "outputId": "18696244-fcd1-4ce9-b9bc-6aee94075dcf"
   },
   "outputs": [
    {
     "name": "stdout",
     "output_type": "stream",
     "text": [
      "/content/gdrive/MyDrive/riveter-test\n"
     ]
    }
   ],
   "source": [
    "%cd /content/gdrive/MyDrive/riveter-test"
   ]
  },
  {
   "cell_type": "code",
   "execution_count": 10,
   "id": "Zz6lEM7X-6ZI",
   "metadata": {
    "colab": {
     "base_uri": "https://localhost:8080/"
    },
    "id": "Zz6lEM7X-6ZI",
    "outputId": "fd632cde-159e-47b9-f0ee-97eea8d4c08c"
   },
   "outputs": [
    {
     "name": "stdout",
     "output_type": "stream",
     "text": [
      "fatal: destination path 'riveter-nlp' already exists and is not an empty directory.\n"
     ]
    }
   ],
   "source": [
    "! git clone https://github.com/maartensap/riveter-nlp.git"
   ]
  },
  {
   "cell_type": "code",
   "execution_count": 11,
   "id": "7fS0_MWs-8h4",
   "metadata": {
    "colab": {
     "base_uri": "https://localhost:8080/"
    },
    "id": "7fS0_MWs-8h4",
    "outputId": "07353bd0-15e9-4590-9cea-397c5d5387dd"
   },
   "outputs": [
    {
     "name": "stdout",
     "output_type": "stream",
     "text": [
      "\u001b[0m\u001b[01;34mriveter-nlp\u001b[0m/\n"
     ]
    }
   ],
   "source": [
    "%ls"
   ]
  },
  {
   "cell_type": "code",
   "execution_count": 12,
   "id": "WbOWegy2--up",
   "metadata": {
    "colab": {
     "base_uri": "https://localhost:8080/"
    },
    "id": "WbOWegy2--up",
    "outputId": "5bade077-2177-430e-b0ce-be94a1acd3f2"
   },
   "outputs": [
    {
     "name": "stdout",
     "output_type": "stream",
     "text": [
      "/content/gdrive/MyDrive/riveter-test/riveter-nlp/riveter\n"
     ]
    }
   ],
   "source": [
    "%cd /content/gdrive/MyDrive/riveter-test/riveter-nlp/riveter"
   ]
  },
  {
   "cell_type": "code",
   "execution_count": null,
   "id": "yoEWTG69ARky",
   "metadata": {
    "id": "yoEWTG69ARky"
   },
   "outputs": [],
   "source": [
    "pip install spacy"
   ]
  },
  {
   "cell_type": "code",
   "execution_count": null,
   "id": "cZwYgX0zA-oC",
   "metadata": {
    "id": "cZwYgX0zA-oC"
   },
   "outputs": [],
   "source": [
    "!pip install -U spacy-experimental"
   ]
  },
  {
   "cell_type": "code",
   "execution_count": null,
   "id": "2Dv2vt__BIFk",
   "metadata": {
    "id": "2Dv2vt__BIFk"
   },
   "outputs": [],
   "source": [
    "!pip install https://github.com/explosion/spacy-experimental/releases/download/v0.6.0/en_coreference_web_trf-3.4.0a0-py3-none-any.whl#egg=en_coreference_web_trf"
   ]
  },
  {
   "cell_type": "code",
   "execution_count": null,
   "id": "vkoajOi5BLzy",
   "metadata": {
    "id": "vkoajOi5BLzy"
   },
   "outputs": [],
   "source": [
    "!python -m spacy download en_core_web_sm"
   ]
  },
  {
   "cell_type": "markdown",
   "id": "JEdOVe9nVWgw",
   "metadata": {
    "id": "JEdOVe9nVWgw"
   },
   "source": [
    "**Import libraries**"
   ]
  },
  {
   "cell_type": "code",
   "execution_count": 16,
   "id": "p4jLWR58_Ftg",
   "metadata": {
    "id": "p4jLWR58_Ftg"
   },
   "outputs": [],
   "source": [
    "from collections import defaultdict\n",
    "import os\n",
    "import pandas as pd\n",
    "import random\n",
    "from riveter import Riveter\n",
    "\n",
    "import seaborn as sns\n",
    "import matplotlib.pyplot as plt"
   ]
  },
  {
   "cell_type": "markdown",
   "id": "u_O2UiH0VvKr",
   "metadata": {
    "id": "u_O2UiH0VvKr"
   },
   "source": [
    "**Load rashkin lexicon and Train the model**"
   ]
  },
  {
   "cell_type": "code",
   "execution_count": 25,
   "id": "6Rj2pxPCDfTW",
   "metadata": {
    "colab": {
     "base_uri": "https://localhost:8080/"
    },
    "id": "6Rj2pxPCDfTW",
    "outputId": "d6f34bb8-c360-4a34-e721-639b3fd9beab"
   },
   "outputs": [
    {
     "name": "stderr",
     "output_type": "stream",
     "text": [
      "100%|██████████| 195/195 [07:37<00:00,  2.35s/it]"
     ]
    },
    {
     "name": "stdout",
     "output_type": "stream",
     "text": [
      "2024-04-29 23:19:25 Complete!\n"
     ]
    },
    {
     "name": "stderr",
     "output_type": "stream",
     "text": [
      "\n"
     ]
    }
   ],
   "source": [
    "#use reshkin lexicon to train the model\n",
    "comments = df['comments']\n",
    "comment_id = df['comment_id']\n",
    "\n",
    "riveter = Riveter()\n",
    "riveter.load_rashkin_lexicon('effect')\n",
    "\n",
    "riveter.train(comments,\n",
    "              comment_id,)"
   ]
  },
  {
   "cell_type": "code",
   "execution_count": 38,
   "id": "jgKce7ykRBQy",
   "metadata": {
    "colab": {
     "base_uri": "https://localhost:8080/"
    },
    "id": "jgKce7ykRBQy",
    "outputId": "af4c5d7a-29a0-4be0-9682-91dae9b2be6b"
   },
   "outputs": [
    {
     "data": {
      "text/plain": [
       "14"
      ]
     },
     "execution_count": 38,
     "metadata": {},
     "output_type": "execute_result"
    }
   ],
   "source": [
    "#get the number of entities that matched at least 10 verbs\n",
    "persona_score_dict = riveter.get_score_totals(frequency_threshold=10)\n",
    "len(persona_score_dict)"
   ]
  },
  {
   "cell_type": "markdown",
   "id": "lcqcc9QCdbez",
   "metadata": {
    "id": "lcqcc9QCdbez"
   },
   "source": [
    "**Get the socre for each entity**"
   ]
  },
  {
   "cell_type": "code",
   "execution_count": 40,
   "id": "V_Q2G_qfRS_Q",
   "metadata": {
    "colab": {
     "base_uri": "https://localhost:8080/"
    },
    "id": "V_Q2G_qfRS_Q",
    "outputId": "7938e5c7-15d5-4f86-c2b4-f2ab14441834"
   },
   "outputs": [
    {
     "name": "stdout",
     "output_type": "stream",
     "text": [
      "0.31 \t sense\n",
      "0.26 \t we\n",
      "0.14 \t you\n",
      "0.09 \t people\n",
      "0.08 \t i\n",
      "0.07 \t story\n",
      "0.06 \t they\n",
      "0.06 \t mikasa\n",
      "0.05 \t he\n",
      "0.04 \t ending\n",
      "0.04 \t this\n",
      "0.04 \t it\n",
      "0.02 \t eren\n",
      "-0.0 \t ymir\n"
     ]
    }
   ],
   "source": [
    "#print the score of entities that matched at least 10 verbs\n",
    "for _persona, _score in sorted(persona_score_dict.items(), key=lambda x: x[1], reverse=True):\n",
    "    print(round(_score, 2), '\\t', _persona)"
   ]
  },
  {
   "cell_type": "code",
   "execution_count": 54,
   "id": "7Iq72PdVdpZi",
   "metadata": {
    "colab": {
     "base_uri": "https://localhost:8080/",
     "height": 297
    },
    "id": "7Iq72PdVdpZi",
    "outputId": "3af3af09-d69e-418d-f323-8f4e82376884"
   },
   "outputs": [
    {
     "data": {
      "image/png": "[encoded data removed]",
      "text/plain": [
       "<Figure size 300x300 with 1 Axes>"
      ]
     },
     "metadata": {},
     "output_type": "display_data"
    }
   ],
   "source": [
    "# We can compare the score for different personas, and visualize the result. \n",
    "# Here we compare the score for the main male character 'eren' and the main female character 'mikasa'.\n",
    "riveter.plot_scores(title='Personas by Score', target_personas=['eren', 'mikasa'], figsize=(3, 3))"
   ]
  },
  {
   "cell_type": "code",
   "execution_count": 54,
   "id": "f19c417f",
   "metadata": {
    "colab": {
     "base_uri": "https://localhost:8080/",
     "height": 297
    },
    "id": "7Iq72PdVdpZi",
    "outputId": "3af3af09-d69e-418d-f323-8f4e82376884"
   },
   "outputs": [
    {
     "data": {
      "image/png": "[encoded data removed]",
      "text/plain": [
       "<Figure size 300x300 with 1 Axes>"
      ]
     },
     "metadata": {},
     "output_type": "display_data"
    }
   ],
   "source": [
    "# We can compare the score for different personas, and visualize the result. \n",
    "# Here we compare the score for the main male character 'eren' and the main female character 'mikasa'.\n",
    "riveter.plot_scores(title='Personas by Score', target_personas=['eren', 'mikasa'], figsize=(3, 3))"
   ]
  },
  {
   "cell_type": "code",
   "execution_count": 55,
   "id": "jCf0uXSAdqkt",
   "metadata": {
    "colab": {
     "base_uri": "https://localhost:8080/",
     "height": 297
    },
    "id": "jCf0uXSAdqkt",
    "outputId": "c2fdb86f-a074-4b86-b157-08ca14dd83e2"
   },
   "outputs": [
    {
     "data": {
      "image/png": "[encoded data removed]",
      "text/plain": [
       "<Figure size 300x300 with 1 Axes>"
      ]
     },
     "metadata": {},
     "output_type": "display_data"
    }
   ],
   "source": [
    "# The comparision between 'eren' and 'ymir'\n",
    "riveter.plot_scores(title='Personas by Score', target_personas=['eren', 'ymir'], figsize=(3, 3))"
   ]
  },
  {
   "cell_type": "markdown",
   "id": "rP-zTd3AYgDG",
   "metadata": {
    "id": "rP-zTd3AYgDG"
   },
   "source": [
    "**Get verb polarity for scores**"
   ]
  },
  {
   "cell_type": "code",
   "execution_count": 42,
   "id": "SGKBtMlJXMQ5",
   "metadata": {
    "colab": {
     "base_uri": "https://localhost:8080/"
    },
    "id": "SGKBtMlJXMQ5",
    "outputId": "faf41107-de1e-42f3-f5b4-1d8e7184a5b3"
   },
   "outputs": [
    {
     "data": {
      "text/plain": [
       "defaultdict(<function riveter.default_dict_int()>,\n",
       "            {'positive': defaultdict(int,\n",
       "                         {'enjoy_dobj': 1,\n",
       "                          'like_dobj': 8,\n",
       "                          'give_nsubj': 1,\n",
       "                          'care_nsubj': 1,\n",
       "                          'give_dobj': 1,\n",
       "                          'read_dobj': 4,\n",
       "                          'want_dobj': 1,\n",
       "                          'love_dobj': 1,\n",
       "                          'own_dobj': 1,\n",
       "                          'prepare_dobj': 1}),\n",
       "             'negative': defaultdict(int,\n",
       "                         {'hate_dobj': 3,\n",
       "                          'make_nsubj': 3,\n",
       "                          'end_dobj': 1,\n",
       "                          'survive_dobj': 1})})"
      ]
     },
     "execution_count": 42,
     "metadata": {},
     "output_type": "execute_result"
    }
   ],
   "source": [
    "#Check all the contributing verbs for each persona and whether they contributed positively or negatively.\n",
    "#First, we see the postive and negative contributing verbs about 'ending'\n",
    "persona_polarity_verb_count_dict['ending']"
   ]
  },
  {
   "cell_type": "code",
   "execution_count": 31,
   "id": "j6s4kYdFRabn",
   "metadata": {
    "colab": {
     "base_uri": "https://localhost:8080/"
    },
    "id": "j6s4kYdFRabn",
    "outputId": "db1d24b3-50f6-49bb-de44-abe763077aa0"
   },
   "outputs": [
    {
     "data": {
      "text/plain": [
       "defaultdict(<function riveter.default_dict_int()>,\n",
       "            {'positive': defaultdict(int,\n",
       "                         {'win_nsubj': 1,\n",
       "                          'protect_dobj': 1,\n",
       "                          'complete_nsubj': 1,\n",
       "                          'have_nsubj': 3,\n",
       "                          'get_nsubj': 1,\n",
       "                          'remember_nsubj': 1,\n",
       "                          'realize_nsubj': 1,\n",
       "                          'explain_dobj': 1,\n",
       "                          'command_nsubj': 1,\n",
       "                          'achieve_dobj': 1,\n",
       "                          'save_dobj': 2,\n",
       "                          'say_nsubj': 1,\n",
       "                          'forgive_dobj': 1,\n",
       "                          'go_nsubj': 1,\n",
       "                          'love_dobj': 1,\n",
       "                          'give_dobj': 1,\n",
       "                          'give_nsubj': 1,\n",
       "                          'keep_nsubj': 1,\n",
       "                          'trust_dobj': 1,\n",
       "                          'witness_dobj': 1,\n",
       "                          'thank_dobj': 3,\n",
       "                          'get_dobj': 2,\n",
       "                          'feel_dobj': 1,\n",
       "                          'take_nsubj': 1,\n",
       "                          'want_dobj': 1,\n",
       "                          'see_dobj': 1}),\n",
       "             'negative': defaultdict(int,\n",
       "                         {'lose_nsubj': 1,\n",
       "                          'admit_nsubj': 1,\n",
       "                          'fall_nsubj': 1,\n",
       "                          'overcome_dobj': 1,\n",
       "                          'make_nsubj': 2,\n",
       "                          'kill_dobj': 6,\n",
       "                          'stop_dobj': 1,\n",
       "                          'risk_dobj': 1,\n",
       "                          'cry_nsubj': 2,\n",
       "                          'sacrifice_nsubj': 1,\n",
       "                          'use_dobj': 1})})"
      ]
     },
     "execution_count": 31,
     "metadata": {},
     "output_type": "execute_result"
    }
   ],
   "source": [
    "# We can also see the postive and negative contributing verbs about the main character 'eren'\n",
    "persona_polarity_verb_count_dict['eren']"
   ]
  },
  {
   "cell_type": "code",
   "execution_count": 32,
   "id": "3fiFh_y7RhFQ",
   "metadata": {
    "colab": {
     "base_uri": "https://localhost:8080/"
    },
    "id": "3fiFh_y7RhFQ",
    "outputId": "02f64201-d698-4f18-da45-c74257408e38"
   },
   "outputs": [
    {
     "data": {
      "text/plain": [
       "defaultdict(<function riveter.default_dict_int()>,\n",
       "            {'negative': defaultdict(int,\n",
       "                         {'rip_dobj': 1,\n",
       "                          'surround_dobj': 1,\n",
       "                          'destroy_dobj': 1,\n",
       "                          'undermine_dobj': 1,\n",
       "                          'kill_dobj': 1,\n",
       "                          'lose_dobj': 1,\n",
       "                          'abuse_dobj': 1}),\n",
       "             'positive': defaultdict(int,\n",
       "                         {'see_nsubj': 1,\n",
       "                          'keep_nsubj': 1,\n",
       "                          'return_nsubj': 1,\n",
       "                          'go_nsubj': 1,\n",
       "                          'remain_nsubj': 2,\n",
       "                          'serve_dobj': 2,\n",
       "                          'know_nsubj': 1,\n",
       "                          'free_dobj': 2,\n",
       "                          'show_dobj': 1,\n",
       "                          'want_nsubj': 1})})"
      ]
     },
     "execution_count": 32,
     "metadata": {},
     "output_type": "execute_result"
    }
   ],
   "source": [
    "#the postive and negative contributing verbs about the character 'ymir'\n",
    "persona_polarity_verb_count_dict['ymir']"
   ]
  },
  {
   "cell_type": "code",
   "execution_count": 43,
   "id": "kHHI2zC7SWKj",
   "metadata": {
    "colab": {
     "base_uri": "https://localhost:8080/"
    },
    "id": "kHHI2zC7SWKj",
    "outputId": "922a8e1d-fd15-4127-a21a-e5b3ac81cda7"
   },
   "outputs": [
    {
     "data": {
      "text/plain": [
       "defaultdict(<function riveter.default_dict_int()>,\n",
       "            {'positive': defaultdict(int,\n",
       "                         {'make_dobj': 2,\n",
       "                          'free_nsubj': 1,\n",
       "                          'dedicate_nsubj': 1,\n",
       "                          'have_nsubj': 1,\n",
       "                          'help_nsubj': 1,\n",
       "                          'dedicate_dobj': 1,\n",
       "                          'uphold_dobj': 1,\n",
       "                          'take_dobj': 1}),\n",
       "             'negative': defaultdict(int, {'kill_nsubj': 1})})"
      ]
     },
     "execution_count": 43,
     "metadata": {},
     "output_type": "execute_result"
    }
   ],
   "source": [
    "#the postive and negative contributing verbs about the character 'mikasa'\n",
    "persona_polarity_verb_count_dict['mikasa']"
   ]
  },
  {
   "cell_type": "markdown",
   "id": "F9JxA-HKaJGR",
   "metadata": {
    "id": "F9JxA-HKaJGR"
   },
   "source": [
    "**Draw the heatmap**"
   ]
  },
  {
   "cell_type": "markdown",
   "id": "58313dea-b61a-48ea-8ac9-1ed6b4321435",
   "metadata": {},
   "source": [
    "We can view these scores visually for each persona. In the following heatmap, each cell contains the count of matching verbs for the persona that contributed either positively or negatively to its final score."
   ]
  },
  {
   "cell_type": "code",
   "execution_count": 45,
   "id": "O2SLYpAbXcQZ",
   "metadata": {
    "colab": {
     "base_uri": "https://localhost:8080/",
     "height": 597
    },
    "id": "O2SLYpAbXcQZ",
    "outputId": "144c165e-c1b3-4fb0-f6f3-c5b171e54a04"
   },
   "outputs": [
    {
     "data": {
      "image/png": "[encoded data removed]",
      "text/plain": [
       "<Figure size 200x600 with 1 Axes>"
      ]
     },
     "metadata": {},
     "output_type": "display_data"
    }
   ],
   "source": [
    "riveter.plot_verbs_for_persona('ending', figsize=(2,6))"
   ]
  },
  {
   "cell_type": "code",
   "execution_count": 34,
   "id": "N3vw1urGRood",
   "metadata": {
    "colab": {
     "base_uri": "https://localhost:8080/",
     "height": 597
    },
    "id": "N3vw1urGRood",
    "outputId": "32eca3ed-8c26-4594-8ba6-d0d534a6f7e6"
   },
   "outputs": [
    {
     "data": {
      "image/png": "[encoded data removed]",
      "text/plain": [
       "<Figure size 200x600 with 1 Axes>"
      ]
     },
     "metadata": {},
     "output_type": "display_data"
    }
   ],
   "source": [
    "riveter.plot_verbs_for_persona('eren', figsize=(2,6))"
   ]
  },
  {
   "cell_type": "code",
   "execution_count": 36,
   "id": "SkzWXQiISiJY",
   "metadata": {
    "colab": {
     "base_uri": "https://localhost:8080/",
     "height": 597
    },
    "id": "SkzWXQiISiJY",
    "outputId": "b1fa193a-f81a-486e-a642-59e5608c2bbe"
   },
   "outputs": [
    {
     "data": {
      "image/png": "[encoded data removed]",
      "text/plain": [
       "<Figure size 200x600 with 1 Axes>"
      ]
     },
     "metadata": {},
     "output_type": "display_data"
    }
   ],
   "source": [
    "riveter.plot_verbs_for_persona('ymir', figsize=(2,6))"
   ]
  },
  {
   "cell_type": "code",
   "execution_count": 44,
   "id": "mt4SCzB9S_z6",
   "metadata": {
    "colab": {
     "base_uri": "https://localhost:8080/",
     "height": 597
    },
    "id": "mt4SCzB9S_z6",
    "outputId": "9ea46731-1339-4207-9ec5-8778de797af3"
   },
   "outputs": [
    {
     "data": {
      "image/png": "[encoded data removed]",
      "text/plain": [
       "<Figure size 200x600 with 1 Axes>"
      ]
     },
     "metadata": {},
     "output_type": "display_data"
    }
   ],
   "source": [
    "riveter.plot_verbs_for_persona('mikasa', figsize=(2,6))"
   ]
  },
  {
   "cell_type": "markdown",
   "id": "tv0oV1CEaq3p",
   "metadata": {
    "id": "tv0oV1CEaq3p"
   },
   "source": [
    "**Words or names clustered together for each persona**"
   ]
  },
  {
   "cell_type": "markdown",
   "id": "4e4077ea-cd6d-4d95-bbba-bab2ef8deb93",
   "metadata": {},
   "source": [
    "We can also see what words or names have been clustered together for each persona."
   ]
  },
  {
   "cell_type": "code",
   "execution_count": 46,
   "id": "zz5yibCqaa_p",
   "metadata": {
    "colab": {
     "base_uri": "https://localhost:8080/"
    },
    "id": "zz5yibCqaa_p",
    "outputId": "4374f480-2d21-40cd-a069-f29edf40f317"
   },
   "outputs": [
    {
     "data": {
      "text/plain": [
       "{'eren wins': 1,\n",
       " 'eren loses': 1,\n",
       " \"eren responsible for his mother's death is\": 1,\n",
       " 'his mother': 2,\n",
       " \"eren's best\": 1,\n",
       " 'i do': 1,\n",
       " 'his character': 1,\n",
       " 'eg eren': 1,\n",
       " \"eren's\": 3,\n",
       " 'my enemies': 1,\n",
       " 'he does': 1,\n",
       " 'eren rumbles': 1,\n",
       " 'his primary': 1,\n",
       " 'eren': 10,\n",
       " 'eren not': 1,\n",
       " 'him when': 1,\n",
       " 'eren or': 1,\n",
       " 'eren did': 8,\n",
       " 'eren could': 2,\n",
       " 'eren admits': 1,\n",
       " 'he strongly': 1,\n",
       " 'he did': 12,\n",
       " 'eren’s': 1,\n",
       " 'his compulsive': 1,\n",
       " 'he had': 3,\n",
       " 'his underlying': 1,\n",
       " 'marley’s fall': 1,\n",
       " 'the marleyan uses': 1,\n",
       " 'marley killed': 1,\n",
       " 'marley that': 1,\n",
       " 'marley is': 1,\n",
       " 'reiner became': 1,\n",
       " 'he overcame': 1,\n",
       " 'his regrets': 1,\n",
       " 'he’s': 2,\n",
       " 'jean.': 1,\n",
       " 'jean got': 1,\n",
       " 'he remembered': 1,\n",
       " 'he empathized': 1,\n",
       " 'reiner.': 1,\n",
       " 'he realized': 1,\n",
       " 'jean’s feelings': 1,\n",
       " 'him struggle': 1,\n",
       " 'eren sent': 2,\n",
       " 'his mom': 1,\n",
       " 'eren made': 2,\n",
       " 'he was': 8,\n",
       " 'he commanded': 1,\n",
       " 'his own': 3,\n",
       " 'his goals': 1,\n",
       " 'eren will': 1,\n",
       " 'he can': 1,\n",
       " 'eren and': 7,\n",
       " 'he uses': 1,\n",
       " 'eren controlling': 1,\n",
       " 'eren saw': 3,\n",
       " 'his friends': 12,\n",
       " 'him,': 2,\n",
       " 'he paused': 1,\n",
       " 'his goal': 2,\n",
       " 'eren says': 1,\n",
       " 'eren was': 8,\n",
       " 'eren defeated': 1,\n",
       " 'eren himself': 1,\n",
       " 'himself not': 1,\n",
       " 'eren won': 1,\n",
       " 'he got': 1,\n",
       " 'eren lost': 1,\n",
       " 'eren to': 2,\n",
       " 'he committed': 1,\n",
       " 'eren being': 1,\n",
       " 'eren goes': 1,\n",
       " 'he loves': 2,\n",
       " 'him from': 1,\n",
       " 'him so': 1,\n",
       " 'him for': 4,\n",
       " 'eren, mikasa, and armin was': 1,\n",
       " 'they ended': 1,\n",
       " 'the trio was': 1,\n",
       " 'them and': 1,\n",
       " 'eren/reiner,': 1,\n",
       " 'the original three at': 1,\n",
       " 'them their': 1,\n",
       " 'their ending': 1,\n",
       " 'eren pulling': 1,\n",
       " 'eren,': 5,\n",
       " 'eren/': 1,\n",
       " 'eren died': 1,\n",
       " 'he would': 2,\n",
       " 'his arm': 1,\n",
       " 'eren editing': 1,\n",
       " 'eren had': 3,\n",
       " 'eren even': 1,\n",
       " 'he gave': 1,\n",
       " 'his fate': 2,\n",
       " 'he kept': 1,\n",
       " 'his loved': 1,\n",
       " 'he wanted': 1,\n",
       " 'eren that': 1,\n",
       " 'eren struggling': 1,\n",
       " 'eren chose': 1,\n",
       " 'his comrades': 1,\n",
       " \"he's\": 1,\n",
       " 'eren cried': 1,\n",
       " 'he could': 2,\n",
       " 'eren would': 2,\n",
       " 'eren.': 2,\n",
       " 'he dies': 1,\n",
       " 'eren just': 1,\n",
       " 'he loved': 1,\n",
       " 'his obsession': 1,\n",
       " 'eren put': 1,\n",
       " 'his desire': 1,\n",
       " 'he knows': 2,\n",
       " \"eren's loved\": 1,\n",
       " 'he eradicated': 1,\n",
       " 'he promised': 1,\n",
       " 'he sacrificed': 1,\n",
       " 'eren decided': 1,\n",
       " 'his letters': 1,\n",
       " 'eren at': 1,\n",
       " 'he ever': 1,\n",
       " 'he crying': 1,\n",
       " 'he neither': 1,\n",
       " 'his god': 1,\n",
       " 'eren’s friends': 1,\n",
       " 'you.': 1,\n",
       " 'you become': 1,\n",
       " 'eren like': 1,\n",
       " 'armin straight': 1,\n",
       " 'him to': 1,\n",
       " 'him feel': 1,\n",
       " 'armin benefitted': 1,\n",
       " \"armin's kids\": 1,\n",
       " 'shot eren': 1,\n",
       " 'it does': 1,\n",
       " 'it was': 1,\n",
       " 'eren suddenly': 1,\n",
       " 'him break': 1,\n",
       " 'armin takes': 1,\n",
       " 'eren got': 1,\n",
       " 'his way': 1,\n",
       " 'the kid with the dog,': 1,\n",
       " 'this kid rediscovering': 1,\n",
       " 'eren killing': 1,\n",
       " 'eren fought': 1}"
      ]
     },
     "execution_count": 46,
     "metadata": {},
     "output_type": "execute_result"
    }
   ],
   "source": [
    "# get the word cluster about 'eren'\n",
    "riveter.get_persona_cluster('eren')"
   ]
  },
  {
   "cell_type": "code",
   "execution_count": 47,
   "id": "xj-X68BIa2CH",
   "metadata": {
    "colab": {
     "base_uri": "https://localhost:8080/"
    },
    "id": "xj-X68BIa2CH",
    "outputId": "728bb72c-105c-46fe-bb50-5ea85c1d09e7"
   },
   "outputs": [
    {
     "data": {
      "text/plain": [
       "{'mikasa to': 3,\n",
       " 'her choice': 2,\n",
       " 'mikasa\"': 1,\n",
       " 'mikasa finding': 2,\n",
       " 'mikasa': 7,\n",
       " 'mikasa and ymir respectively': 1,\n",
       " 'their mindsets': 1,\n",
       " 'they ultimately': 1,\n",
       " 'they loved': 1,\n",
       " 'mikasa freed': 1,\n",
       " 'mikasa showed': 1,\n",
       " 'mikasa dedicated': 1,\n",
       " 'herself to': 1,\n",
       " 'she was': 1,\n",
       " 'she chose': 3,\n",
       " 'mikasa had': 1,\n",
       " 'her values': 1,\n",
       " 'she loved': 1,\n",
       " 'her actions': 1,\n",
       " 'i do': 1,\n",
       " 'ymir’s': 1,\n",
       " 'mikasa killing': 2,\n",
       " 'she finally': 2,\n",
       " 'she has': 1,\n",
       " 'mikasa,': 2,\n",
       " 'mikasa needed': 1,\n",
       " 'mikasa?': 1,\n",
       " 'mikasa somewhere': 1,\n",
       " 'mikasa share': 1,\n",
       " 'mikasa take': 1,\n",
       " 'her love': 1}"
      ]
     },
     "execution_count": 47,
     "metadata": {},
     "output_type": "execute_result"
    }
   ],
   "source": [
    "# get the word cluster about 'mikasa'\n",
    "riveter.get_persona_cluster('mikasa')"
   ]
  },
  {
   "cell_type": "code",
   "execution_count": 53,
   "id": "r7PsgCaScUeQ",
   "metadata": {
    "colab": {
     "base_uri": "https://localhost:8080/"
    },
    "id": "r7PsgCaScUeQ",
    "outputId": "4ac74f34-9da6-49df-d66b-0fac95d38943"
   },
   "outputs": [
    {
     "data": {
      "text/plain": [
       "{'ymir loving': 2,\n",
       " \"she's\": 1,\n",
       " 'her motivations': 1,\n",
       " 'she could': 2,\n",
       " 'him apart': 1,\n",
       " 'ymir had': 2,\n",
       " 'she envied': 1,\n",
       " 'ymir’s “': 1,\n",
       " 'her life': 1,\n",
       " 'ymir’s flashback': 1,\n",
       " 'ymir is': 2,\n",
       " 'her behavior': 1,\n",
       " 'she rightiously': 1,\n",
       " 'she is': 1,\n",
       " 'she does': 1,\n",
       " 'she sees': 1,\n",
       " 'ymir ca': 1,\n",
       " \"ymir's story\": 1,\n",
       " 'ymir.': 1,\n",
       " 'ymir freeing': 1,\n",
       " \"ymir's actions\": 1,\n",
       " 'he did': 3,\n",
       " \"eren's power\": 1,\n",
       " 'he could': 1,\n",
       " 'he keeps': 1,\n",
       " 'he has': 1,\n",
       " \"eren's intentions\": 1,\n",
       " 'his enemies(90': 1,\n",
       " 'his character': 1,\n",
       " \"eren's motives\": 1,\n",
       " 'eren,': 1,\n",
       " 'eren/': 1,\n",
       " \"he's\": 1,\n",
       " 'his love': 1,\n",
       " 'his mind': 1,\n",
       " 'his life': 1,\n",
       " 'he broke': 1,\n",
       " \"i'm\": 1,\n",
       " 'my friends': 1,\n",
       " 'i do': 1,\n",
       " 'he so': 1,\n",
       " 'she’s': 1,\n",
       " 'she returns': 1,\n",
       " 'her.': 2,\n",
       " 'ymir demonstrates': 1,\n",
       " 'ymir goes': 1,\n",
       " 'ymir desired': 2,\n",
       " 'she was': 8,\n",
       " 'her useful': 2,\n",
       " 'her remaining': 2,\n",
       " 'her descendants': 2,\n",
       " 'her death': 2,\n",
       " 'she wanted': 2,\n",
       " 'her husband': 2,\n",
       " 'this ymir 2.0 might': 2,\n",
       " 'they are': 2,\n",
       " 'ymir': 2,\n",
       " 'ymir from': 1,\n",
       " 'her love': 2,\n",
       " 'her)': 1,\n",
       " 'only ymir knows': 1,\n",
       " \"historia's\": 1,\n",
       " 'ymir was': 2,\n",
       " 'ymir that': 1,\n",
       " 'freed ymir': 1,\n",
       " 'that was': 1,\n",
       " 'ymir just': 2,\n",
       " 'ymir,': 2,\n",
       " 'ymir being': 1,\n",
       " 'ymir wanted': 1,\n",
       " 'ymir ready': 1,\n",
       " 'herself.': 1,\n",
       " 'ymir did': 1,\n",
       " 'her unrequited': 1,\n",
       " 'she committed': 1,\n",
       " 'she deeply': 1,\n",
       " 'ymir rested': 1}"
      ]
     },
     "execution_count": 53,
     "metadata": {},
     "output_type": "execute_result"
    }
   ],
   "source": [
    "# get the word cluster about 'ymir'\n",
    "riveter.get_persona_cluster('ymir')"
   ]
  }
 ],
 "metadata": {
  "colab": {
   "provenance": []
  },
  "kernelspec": {
   "display_name": "Python 3 (ipykernel)",
   "language": "python",
   "name": "python3"
  },
  "language_info": {
   "codemirror_mode": {
    "name": "ipython",
    "version": 3
   },
   "file_extension": ".py",
   "mimetype": "text/x-python",
   "name": "python",
   "nbconvert_exporter": "python",
   "pygments_lexer": "ipython3",
   "version": "3.9.18"
  }
 },
 "nbformat": 4,
 "nbformat_minor": 5
}
