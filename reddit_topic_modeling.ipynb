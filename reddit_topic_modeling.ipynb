{
 "cells": [
  {
   "cell_type": "markdown",
   "id": "8a2dd100-e697-45c7-ad5c-031056c883d0",
   "metadata": {},
   "source": [
    "This notebook conducts topic modeling about the comments."
   ]
  },
  {
   "cell_type": "code",
   "execution_count": 2,
   "id": "7-WAzM2J2M4P",
   "metadata": {
    "colab": {
     "base_uri": "https://localhost:8080/"
    },
    "id": "7-WAzM2J2M4P",
    "outputId": "cfe07998-f080-4f59-b59d-b0efbbd76e81"
   },
   "outputs": [
    {
     "name": "stdout",
     "output_type": "stream",
     "text": [
      "Mounted at /content/gdrive\n"
     ]
    }
   ],
   "source": [
    "from google.colab import drive\n",
    "drive.mount('/content/gdrive')"
   ]
  },
  {
   "cell_type": "code",
   "execution_count": 3,
   "id": "e46ffecd-3d5c-4dc3-8011-c34660ddd2f5",
   "metadata": {
    "id": "e46ffecd-3d5c-4dc3-8011-c34660ddd2f5"
   },
   "outputs": [],
   "source": [
    "import pandas as pd"
   ]
  },
  {
   "cell_type": "code",
   "execution_count": 4,
   "id": "35b0559c-1840-445c-9d39-21f70fc71a0f",
   "metadata": {
    "id": "35b0559c-1840-445c-9d39-21f70fc71a0f"
   },
   "outputs": [],
   "source": [
    "df = pd.read_csv('/content/gdrive/MyDrive/reddit/reddit_comments.csv', encoding='utf-8', index_col=0, sep=';')"
   ]
  },
  {
   "cell_type": "code",
   "execution_count": 5,
   "id": "11ea6564-1c9d-4bd3-ae32-64a332b167ae",
   "metadata": {
    "colab": {
     "base_uri": "https://localhost:8080/",
     "height": 206
    },
    "id": "11ea6564-1c9d-4bd3-ae32-64a332b167ae",
    "outputId": "b21e6654-e8c9-45e5-9193-1a39347227db"
   },
   "outputs": [
    {
     "data": {
      "application/vnd.google.colaboratory.intrinsic+json": {
       "summary": "{\n  \"name\": \"df\",\n  \"rows\": 195,\n  \"fields\": [\n    {\n      \"column\": \"comments\",\n      \"properties\": {\n        \"dtype\": \"string\",\n        \"num_unique_values\": 189,\n        \"samples\": [\n          \"Bc it\\u2019s sad and people don\\u2019t understand how hard it is to end such a show and keep everyone happy. Reactions to ending is only bad in the US\\n\\n\",\n          \"It's almost certainly not 'widely'. Compared to all the enormity of everyone who read the ending, they're a small group, just really loud.\\n\\n\",\n          \"Firstly, if you enjoyed the ending, that's great. You don't need to love/hate it just because someone else thinks you should, but +1 for being open to discussing it.\\nThat said here's the reasons. Covers the tl;dr for most major issues people have:\\n\\nYmir loving King Fritz is nuts unless we're meant to believe she's got Stockholm syndrome. Ch. 123 made it clear her motivations were to be free from being a slave, so where did this \\\"discovering love through Mikasa\\\" nonesense come from?\\nEren responsible for his mother's death is a plot hole that added nothing to the story.\\nConnie/Jean's titan transformation/death turned out to be just suspense/drama bait as the consequences were immediately undone.\\nEren's best reasoning for the rumbling is \\\"I don't know\\\", which undermines his character/motivations. Eg Eren's  repeatedly established \\\"keep moving forward until all my enemies are destroyed\\\", but that's been thrown out and now he doesn't know?\\nArmin's \\\"we're not titans anymore, trust me bro\\\" is shallow and half-baked. It's not the kind of thing you can slap onto one panel and call it good.\\nThe alliance's blatant plot armor was through the roof. Kills any suspension of disbelief.\\nHistoria seemingly was retconned out the story. What was the point of her child?\\nEren rumbles 80% of the world and, of all things, his primary concern is about Mikasa finding another man. Selfish and childish. Where did this plot thread even come from?\\nThe rumbling amounted to nothing, Paradis got bombed anyways. 50 year plan could've had the exact same outcome but without risking everyone's lives.\\nThe open ending \\\"Beren next generations\\\" could've been presented better.\\nReiner letter-sniffing was funny, but it's a symptom of a more major problem which is that we got no real conclusion for most of the main cast and their plot threads. What happened to Reiner, Annie, Historia? Who knows, but at least Reiner's the big Historia simp, right??\\n\\n\\n\"\n        ],\n        \"semantic_type\": \"\",\n        \"description\": \"\"\n      }\n    }\n  ]\n}",
       "type": "dataframe",
       "variable_name": "df"
      },
      "text/html": [
       "\n",
       "  <div id=\"df-594d147f-2e4a-4aa6-b001-9c44fd1130e6\" class=\"colab-df-container\">\n",
       "    <div>\n",
       "<style scoped>\n",
       "    .dataframe tbody tr th:only-of-type {\n",
       "        vertical-align: middle;\n",
       "    }\n",
       "\n",
       "    .dataframe tbody tr th {\n",
       "        vertical-align: top;\n",
       "    }\n",
       "\n",
       "    .dataframe thead th {\n",
       "        text-align: right;\n",
       "    }\n",
       "</style>\n",
       "<table border=\"1\" class=\"dataframe\">\n",
       "  <thead>\n",
       "    <tr style=\"text-align: right;\">\n",
       "      <th></th>\n",
       "      <th>comments</th>\n",
       "    </tr>\n",
       "  </thead>\n",
       "  <tbody>\n",
       "    <tr>\n",
       "      <th>0</th>\n",
       "      <td>Idk what ya’ll are mad about. I’m pretty excit...</td>\n",
       "    </tr>\n",
       "    <tr>\n",
       "      <th>1</th>\n",
       "      <td>Can't wait to see a crippled Levi fighting din...</td>\n",
       "    </tr>\n",
       "    <tr>\n",
       "      <th>2</th>\n",
       "      <td>Can't wait for when Bellen Kristein would figh...</td>\n",
       "    </tr>\n",
       "    <tr>\n",
       "      <th>3</th>\n",
       "      <td>Honestly speaking I wouldn't mind reading it (...</td>\n",
       "    </tr>\n",
       "    <tr>\n",
       "      <th>4</th>\n",
       "      <td>Beren is stunning, the ending is bad.\\nReasons...</td>\n",
       "    </tr>\n",
       "  </tbody>\n",
       "</table>\n",
       "</div>\n",
       "    <div class=\"colab-df-buttons\">\n",
       "\n",
       "  <div class=\"colab-df-container\">\n",
       "    <button class=\"colab-df-convert\" onclick=\"convertToInteractive('df-594d147f-2e4a-4aa6-b001-9c44fd1130e6')\"\n",
       "            title=\"Convert this dataframe to an interactive table.\"\n",
       "            style=\"display:none;\">\n",
       "\n",
       "  <svg xmlns=\"http://www.w3.org/2000/svg\" height=\"24px\" viewBox=\"0 -960 960 960\">\n",
       "    <path d=\"M120-120v-720h720v720H120Zm60-500h600v-160H180v160Zm220 220h160v-160H400v160Zm0 220h160v-160H400v160ZM180-400h160v-160H180v160Zm440 0h160v-160H620v160ZM180-180h160v-160H180v160Zm440 0h160v-160H620v160Z\"/>\n",
       "  </svg>\n",
       "    </button>\n",
       "\n",
       "  <style>\n",
       "    .colab-df-container {\n",
       "      display:flex;\n",
       "      gap: 12px;\n",
       "    }\n",
       "\n",
       "    .colab-df-convert {\n",
       "      background-color: #E8F0FE;\n",
       "      border: none;\n",
       "      border-radius: 50%;\n",
       "      cursor: pointer;\n",
       "      display: none;\n",
       "      fill: #1967D2;\n",
       "      height: 32px;\n",
       "      padding: 0 0 0 0;\n",
       "      width: 32px;\n",
       "    }\n",
       "\n",
       "    .colab-df-convert:hover {\n",
       "      background-color: #E2EBFA;\n",
       "      box-shadow: 0px 1px 2px rgba(60, 64, 67, 0.3), 0px 1px 3px 1px rgba(60, 64, 67, 0.15);\n",
       "      fill: #174EA6;\n",
       "    }\n",
       "\n",
       "    .colab-df-buttons div {\n",
       "      margin-bottom: 4px;\n",
       "    }\n",
       "\n",
       "    [theme=dark] .colab-df-convert {\n",
       "      background-color: #3B4455;\n",
       "      fill: #D2E3FC;\n",
       "    }\n",
       "\n",
       "    [theme=dark] .colab-df-convert:hover {\n",
       "      background-color: #434B5C;\n",
       "      box-shadow: 0px 1px 3px 1px rgba(0, 0, 0, 0.15);\n",
       "      filter: drop-shadow(0px 1px 2px rgba(0, 0, 0, 0.3));\n",
       "      fill: #FFFFFF;\n",
       "    }\n",
       "  </style>\n",
       "\n",
       "    <script>\n",
       "      const buttonEl =\n",
       "        document.querySelector('#df-594d147f-2e4a-4aa6-b001-9c44fd1130e6 button.colab-df-convert');\n",
       "      buttonEl.style.display =\n",
       "        google.colab.kernel.accessAllowed ? 'block' : 'none';\n",
       "\n",
       "      async function convertToInteractive(key) {\n",
       "        const element = document.querySelector('#df-594d147f-2e4a-4aa6-b001-9c44fd1130e6');\n",
       "        const dataTable =\n",
       "          await google.colab.kernel.invokeFunction('convertToInteractive',\n",
       "                                                    [key], {});\n",
       "        if (!dataTable) return;\n",
       "\n",
       "        const docLinkHtml = 'Like what you see? Visit the ' +\n",
       "          '<a target=\"_blank\" href=https://colab.research.google.com/notebooks/data_table.ipynb>data table notebook</a>'\n",
       "          + ' to learn more about interactive tables.';\n",
       "        element.innerHTML = '';\n",
       "        dataTable['output_type'] = 'display_data';\n",
       "        await google.colab.output.renderOutput(dataTable, element);\n",
       "        const docLink = document.createElement('div');\n",
       "        docLink.innerHTML = docLinkHtml;\n",
       "        element.appendChild(docLink);\n",
       "      }\n",
       "    </script>\n",
       "  </div>\n",
       "\n",
       "\n",
       "<div id=\"df-cc5097d1-15ac-4d74-9029-a060a5da2ee3\">\n",
       "  <button class=\"colab-df-quickchart\" onclick=\"quickchart('df-cc5097d1-15ac-4d74-9029-a060a5da2ee3')\"\n",
       "            title=\"Suggest charts\"\n",
       "            style=\"display:none;\">\n",
       "\n",
       "<svg xmlns=\"http://www.w3.org/2000/svg\" height=\"24px\"viewBox=\"0 0 24 24\"\n",
       "     width=\"24px\">\n",
       "    <g>\n",
       "        <path d=\"M19 3H5c-1.1 0-2 .9-2 2v14c0 1.1.9 2 2 2h14c1.1 0 2-.9 2-2V5c0-1.1-.9-2-2-2zM9 17H7v-7h2v7zm4 0h-2V7h2v10zm4 0h-2v-4h2v4z\"/>\n",
       "    </g>\n",
       "</svg>\n",
       "  </button>\n",
       "\n",
       "<style>\n",
       "  .colab-df-quickchart {\n",
       "      --bg-color: #E8F0FE;\n",
       "      --fill-color: #1967D2;\n",
       "      --hover-bg-color: #E2EBFA;\n",
       "      --hover-fill-color: #174EA6;\n",
       "      --disabled-fill-color: #AAA;\n",
       "      --disabled-bg-color: #DDD;\n",
       "  }\n",
       "\n",
       "  [theme=dark] .colab-df-quickchart {\n",
       "      --bg-color: #3B4455;\n",
       "      --fill-color: #D2E3FC;\n",
       "      --hover-bg-color: #434B5C;\n",
       "      --hover-fill-color: #FFFFFF;\n",
       "      --disabled-bg-color: #3B4455;\n",
       "      --disabled-fill-color: #666;\n",
       "  }\n",
       "\n",
       "  .colab-df-quickchart {\n",
       "    background-color: var(--bg-color);\n",
       "    border: none;\n",
       "    border-radius: 50%;\n",
       "    cursor: pointer;\n",
       "    display: none;\n",
       "    fill: var(--fill-color);\n",
       "    height: 32px;\n",
       "    padding: 0;\n",
       "    width: 32px;\n",
       "  }\n",
       "\n",
       "  .colab-df-quickchart:hover {\n",
       "    background-color: var(--hover-bg-color);\n",
       "    box-shadow: 0 1px 2px rgba(60, 64, 67, 0.3), 0 1px 3px 1px rgba(60, 64, 67, 0.15);\n",
       "    fill: var(--button-hover-fill-color);\n",
       "  }\n",
       "\n",
       "  .colab-df-quickchart-complete:disabled,\n",
       "  .colab-df-quickchart-complete:disabled:hover {\n",
       "    background-color: var(--disabled-bg-color);\n",
       "    fill: var(--disabled-fill-color);\n",
       "    box-shadow: none;\n",
       "  }\n",
       "\n",
       "  .colab-df-spinner {\n",
       "    border: 2px solid var(--fill-color);\n",
       "    border-color: transparent;\n",
       "    border-bottom-color: var(--fill-color);\n",
       "    animation:\n",
       "      spin 1s steps(1) infinite;\n",
       "  }\n",
       "\n",
       "  @keyframes spin {\n",
       "    0% {\n",
       "      border-color: transparent;\n",
       "      border-bottom-color: var(--fill-color);\n",
       "      border-left-color: var(--fill-color);\n",
       "    }\n",
       "    20% {\n",
       "      border-color: transparent;\n",
       "      border-left-color: var(--fill-color);\n",
       "      border-top-color: var(--fill-color);\n",
       "    }\n",
       "    30% {\n",
       "      border-color: transparent;\n",
       "      border-left-color: var(--fill-color);\n",
       "      border-top-color: var(--fill-color);\n",
       "      border-right-color: var(--fill-color);\n",
       "    }\n",
       "    40% {\n",
       "      border-color: transparent;\n",
       "      border-right-color: var(--fill-color);\n",
       "      border-top-color: var(--fill-color);\n",
       "    }\n",
       "    60% {\n",
       "      border-color: transparent;\n",
       "      border-right-color: var(--fill-color);\n",
       "    }\n",
       "    80% {\n",
       "      border-color: transparent;\n",
       "      border-right-color: var(--fill-color);\n",
       "      border-bottom-color: var(--fill-color);\n",
       "    }\n",
       "    90% {\n",
       "      border-color: transparent;\n",
       "      border-bottom-color: var(--fill-color);\n",
       "    }\n",
       "  }\n",
       "</style>\n",
       "\n",
       "  <script>\n",
       "    async function quickchart(key) {\n",
       "      const quickchartButtonEl =\n",
       "        document.querySelector('#' + key + ' button');\n",
       "      quickchartButtonEl.disabled = true;  // To prevent multiple clicks.\n",
       "      quickchartButtonEl.classList.add('colab-df-spinner');\n",
       "      try {\n",
       "        const charts = await google.colab.kernel.invokeFunction(\n",
       "            'suggestCharts', [key], {});\n",
       "      } catch (error) {\n",
       "        console.error('Error during call to suggestCharts:', error);\n",
       "      }\n",
       "      quickchartButtonEl.classList.remove('colab-df-spinner');\n",
       "      quickchartButtonEl.classList.add('colab-df-quickchart-complete');\n",
       "    }\n",
       "    (() => {\n",
       "      let quickchartButtonEl =\n",
       "        document.querySelector('#df-cc5097d1-15ac-4d74-9029-a060a5da2ee3 button');\n",
       "      quickchartButtonEl.style.display =\n",
       "        google.colab.kernel.accessAllowed ? 'block' : 'none';\n",
       "    })();\n",
       "  </script>\n",
       "</div>\n",
       "    </div>\n",
       "  </div>\n"
      ],
      "text/plain": [
       "                                            comments\n",
       "0  Idk what ya’ll are mad about. I’m pretty excit...\n",
       "1  Can't wait to see a crippled Levi fighting din...\n",
       "2  Can't wait for when Bellen Kristein would figh...\n",
       "3  Honestly speaking I wouldn't mind reading it (...\n",
       "4  Beren is stunning, the ending is bad.\\nReasons..."
      ]
     },
     "execution_count": 5,
     "metadata": {},
     "output_type": "execute_result"
    }
   ],
   "source": [
    "df.head()"
   ]
  },
  {
   "cell_type": "markdown",
   "id": "oQnqamFt3pCB",
   "metadata": {
    "id": "oQnqamFt3pCB"
   },
   "source": [
    "**Clean the data**"
   ]
  },
  {
   "cell_type": "code",
   "execution_count": 6,
   "id": "67e9ab0c-8d83-4cd8-bbbe-9a302773ebcc",
   "metadata": {
    "colab": {
     "base_uri": "https://localhost:8080/"
    },
    "id": "67e9ab0c-8d83-4cd8-bbbe-9a302773ebcc",
    "outputId": "1a2da465-c6b9-48fc-a710-adaddcc63e79"
   },
   "outputs": [
    {
     "name": "stderr",
     "output_type": "stream",
     "text": [
      "[nltk_data] Downloading package stopwords to /root/nltk_data...\n",
      "[nltk_data]   Unzipping corpora/stopwords.zip.\n"
     ]
    }
   ],
   "source": [
    "import re\n",
    "import nltk\n",
    "from nltk.corpus import stopwords\n",
    "import string\n",
    "\n",
    "nltk.download('stopwords')\n",
    "\n",
    "def preprocess_text(text):\n",
    "    # Convert text to lowercase\n",
    "    processed_text = text.lower()\n",
    "    # Remove URLs and user mentions\n",
    "    processed_text = re.sub(r\"http\\S+|www\\S+|https\\S+|\\/\\/t|co\\/|\\@\\w+\", '', processed_text, flags=re.MULTILINE)\n",
    "    # Remove punctuation\n",
    "    processed_text = processed_text.translate(str.maketrans('', '', string.punctuation))\n",
    "    # Remove numbers\n",
    "    processed_text = re.sub(r'\\d+', '', processed_text)\n",
    "    # Tokenize the text\n",
    "    words = processed_text.split()\n",
    "    # Remove stopwords\n",
    "    stop_words = set(stopwords.words('english'))\n",
    "    filtered_words = [word for word in words if word not in stop_words]\n",
    "    # Join the filtered words back into a string\n",
    "    processed_text = ' '.join(filtered_words)\n",
    "\n",
    "    return processed_text\n",
    "\n",
    "training_data = []\n",
    "original_texts = []\n",
    "\n",
    "for index, row in df.iterrows():\n",
    "    # Preprocess the tweet text\n",
    "    processed_text = preprocess_text(row['comments'])\n",
    "    # Add the processed text to the 'training_data' list\n",
    "    training_data.append(processed_text)\n",
    "    # Add the original text to the 'original_texts' list\n",
    "    original_texts.append(row['comments'])"
   ]
  },
  {
   "cell_type": "code",
   "execution_count": 8,
   "id": "nsmWZ7yW3i6d",
   "metadata": {
    "colab": {
     "base_uri": "https://localhost:8080/"
    },
    "id": "nsmWZ7yW3i6d",
    "outputId": "3f8125c7-495a-4739-a7cd-95de48331455"
   },
   "outputs": [
    {
     "name": "stdout",
     "output_type": "stream",
     "text": [
      "Collecting tomotopy\n",
      "  Downloading tomotopy-0.12.7-cp310-cp310-manylinux_2_17_x86_64.manylinux2014_x86_64.whl (17.2 MB)\n",
      "\u001b[2K     \u001b[90m━━━━━━━━━━━━━━━━━━━━━━━━━━━━━━━━━━━━━━━━\u001b[0m \u001b[32m17.2/17.2 MB\u001b[0m \u001b[31m36.5 MB/s\u001b[0m eta \u001b[36m0:00:00\u001b[0m\n",
      "\u001b[?25hRequirement already satisfied: numpy>=1.11.0 in /usr/local/lib/python3.10/dist-packages (from tomotopy) (1.25.2)\n",
      "Installing collected packages: tomotopy\n",
      "Successfully installed tomotopy-0.12.7\n"
     ]
    }
   ],
   "source": [
    "!pip install tomotopy"
   ]
  },
  {
   "cell_type": "code",
   "execution_count": 9,
   "id": "JG7v-J1a3nBn",
   "metadata": {
    "colab": {
     "base_uri": "https://localhost:8080/"
    },
    "id": "JG7v-J1a3nBn",
    "outputId": "4f0480d0-0144-41bd-b682-b3845385ff06"
   },
   "outputs": [
    {
     "name": "stdout",
     "output_type": "stream",
     "text": [
      "Collecting little_mallet_wrapper\n",
      "  Downloading little_mallet_wrapper-0.5.0-py3-none-any.whl (19 kB)\n",
      "Installing collected packages: little_mallet_wrapper\n",
      "Successfully installed little_mallet_wrapper-0.5.0\n"
     ]
    }
   ],
   "source": [
    "!pip install little_mallet_wrapper"
   ]
  },
  {
   "cell_type": "markdown",
   "id": "Jf8StUOy4Fyp",
   "metadata": {
    "id": "Jf8StUOy4Fyp"
   },
   "source": [
    "**Train an LDA topic model with tomotopy**"
   ]
  },
  {
   "cell_type": "code",
   "execution_count": 10,
   "id": "-MZJ04Q43cNJ",
   "metadata": {
    "id": "-MZJ04Q43cNJ"
   },
   "outputs": [],
   "source": [
    "import tomotopy as tp\n",
    "import little_mallet_wrapper\n",
    "import seaborn\n",
    "import glob\n",
    "from pathlib import Path"
   ]
  },
  {
   "cell_type": "code",
   "execution_count": 11,
   "id": "e4db3fc9-3b32-4119-a9b8-700718844cd9",
   "metadata": {
    "colab": {
     "base_uri": "https://localhost:8080/"
    },
    "id": "e4db3fc9-3b32-4119-a9b8-700718844cd9",
    "outputId": "dc6a98ad-03b3-443e-858e-d462c04683d1"
   },
   "outputs": [
    {
     "name": "stdout",
     "output_type": "stream",
     "text": [
      "Topic Model Training...\n",
      "\n",
      "\n",
      "Iteration: 0\tLog-likelihood: -8.725279041711211\n",
      "Iteration: 10\tLog-likelihood: -8.596976075767682\n",
      "Iteration: 20\tLog-likelihood: -8.552565295448925\n",
      "Iteration: 30\tLog-likelihood: -8.515113571037027\n",
      "Iteration: 40\tLog-likelihood: -8.504540745146736\n",
      "Iteration: 50\tLog-likelihood: -8.495437891732678\n",
      "Iteration: 60\tLog-likelihood: -8.43721286680187\n",
      "Iteration: 70\tLog-likelihood: -8.444449159186256\n",
      "Iteration: 80\tLog-likelihood: -8.434859519875749\n",
      "Iteration: 90\tLog-likelihood: -8.435435407055172\n"
     ]
    }
   ],
   "source": [
    "# Number of topics to return\n",
    "num_topics = 15\n",
    "# Numer of topic words to print out\n",
    "num_topic_words = 10\n",
    "\n",
    "# Intialize the model\n",
    "model = tp.LDAModel(k=num_topics)\n",
    "\n",
    "# Add each document to the model, after splitting it up into words\n",
    "for text in training_data:\n",
    "    model.add_doc(text.strip().split())\n",
    "\n",
    "print(\"Topic Model Training...\\n\\n\")\n",
    "# Iterate over the data 10 times\n",
    "iterations = 10\n",
    "for i in range(0, 100, iterations):\n",
    "    model.train(iterations)\n",
    "    print(f'Iteration: {i}\\tLog-likelihood: {model.ll_per_word}')"
   ]
  },
  {
   "cell_type": "markdown",
   "id": "Pz6gaYQy50fD",
   "metadata": {
    "id": "Pz6gaYQy50fD"
   },
   "source": [
    "**Print out the top words for each topic**"
   ]
  },
  {
   "cell_type": "code",
   "execution_count": 12,
   "id": "YpsVvO134NYZ",
   "metadata": {
    "colab": {
     "base_uri": "https://localhost:8080/"
    },
    "id": "YpsVvO134NYZ",
    "outputId": "b9fbd8e9-184e-48ee-cda0-dfc63992a51b"
   },
   "outputs": [
    {
     "name": "stdout",
     "output_type": "stream",
     "text": [
      "✨Topic 0✨\n",
      "\n",
      "aot people lot got see part time themes character wrong\n",
      "\n",
      "✨Topic 1✨\n",
      "\n",
      "ending like didn’t one don’t people it’s bad everyone characters\n",
      "\n",
      "✨Topic 2✨\n",
      "\n",
      "could know see that’s isayama life — sure marley kid\n",
      "\n",
      "✨Topic 3✨\n",
      "\n",
      "world paradis time dont would even always final minority point\n",
      "\n",
      "✨Topic 4✨\n",
      "\n",
      "rumbling series thing think died best though attack opinion plot\n",
      "\n",
      "✨Topic 5✨\n",
      "\n",
      "good got hate want thats historia island lol generations stockholm\n",
      "\n",
      "✨Topic 6✨\n",
      "\n",
      "think first many well pretty since actually liked right manga\n",
      "\n",
      "✨Topic 7✨\n",
      "\n",
      "armin peace back titans conflict eren lives genocide reiner hope\n",
      "\n",
      "✨Topic 8✨\n",
      "\n",
      "war us mean it’s take yeah die points maybe desire\n",
      "\n",
      "✨Topic 9✨\n",
      "\n",
      "ending like way people end something feel years anything understand\n",
      "\n",
      "✨Topic 10✨\n",
      "\n",
      "eren ymir mikasa titan even love titans going also free\n",
      "\n",
      "✨Topic 11✨\n",
      "\n",
      "sense extra makes read pages get make long big show\n",
      "\n",
      "✨Topic 12✨\n",
      "\n",
      "kind plot didnt im dina past point agree issue need\n",
      "\n",
      "✨Topic 13✨\n",
      "\n",
      "chapter cycle hatred end saw also arc every killed came\n",
      "\n",
      "✨Topic 14✨\n",
      "\n",
      "story never still things say nothing better really make future\n",
      "\n"
     ]
    }
   ],
   "source": [
    "topics = []\n",
    "topic_individual_words = []\n",
    "for topic_number in range(0, num_topics):\n",
    "    topic_words = ' '.join(word for word, prob in model.get_topic_words(topic_id=topic_number, top_n=num_topic_words))\n",
    "    topics.append(topic_words)\n",
    "    topic_individual_words.append(topic_words.split())\n",
    "    print(f\"✨Topic {topic_number}✨\\n\\n{topic_words}\\n\")"
   ]
  }
 ],
 "metadata": {
  "colab": {
   "provenance": []
  },
  "kernelspec": {
   "display_name": "Python 3 (ipykernel)",
   "language": "python",
   "name": "python3"
  },
  "language_info": {
   "codemirror_mode": {
    "name": "ipython",
    "version": 3
   },
   "file_extension": ".py",
   "mimetype": "text/x-python",
   "name": "python",
   "nbconvert_exporter": "python",
   "pygments_lexer": "ipython3",
   "version": "3.9.18"
  }
 },
 "nbformat": 4,
 "nbformat_minor": 5
}
