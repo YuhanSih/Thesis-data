{
 "cells": [
  {
   "cell_type": "markdown",
   "id": "ae6669ad-7142-490d-8bd7-faa451bd1bc0",
   "metadata": {},
   "source": [
    "This notebook does the sentiment analysis about the Reddit comment, using the nltk vader lexicon."
   ]
  },
  {
   "cell_type": "markdown",
   "id": "95f3b978-6380-4813-a2f1-cb4871216c35",
   "metadata": {},
   "source": [
    "### Load the data"
   ]
  },
  {
   "cell_type": "code",
   "execution_count": 3,
   "id": "16fd3d93-1f97-493d-abcf-41bf3a6e2ab5",
   "metadata": {},
   "outputs": [],
   "source": [
    "import pandas as pd"
   ]
  },
  {
   "cell_type": "code",
   "execution_count": 22,
   "id": "e6fb708b-465b-4b68-b215-46d4634c5b8e",
   "metadata": {},
   "outputs": [],
   "source": [
    "df = pd.read_csv('reddit_comments.csv', encoding='utf-8', index_col=0, sep=';')"
   ]
  },
  {
   "cell_type": "code",
   "execution_count": 23,
   "id": "469c2a5b-a632-4ff3-9d3c-05115d0cacf2",
   "metadata": {},
   "outputs": [
    {
     "data": {
      "text/html": [
       "<div>\n",
       "<style scoped>\n",
       "    .dataframe tbody tr th:only-of-type {\n",
       "        vertical-align: middle;\n",
       "    }\n",
       "\n",
       "    .dataframe tbody tr th {\n",
       "        vertical-align: top;\n",
       "    }\n",
       "\n",
       "    .dataframe thead th {\n",
       "        text-align: right;\n",
       "    }\n",
       "</style>\n",
       "<table border=\"1\" class=\"dataframe\">\n",
       "  <thead>\n",
       "    <tr style=\"text-align: right;\">\n",
       "      <th></th>\n",
       "      <th>comments</th>\n",
       "    </tr>\n",
       "  </thead>\n",
       "  <tbody>\n",
       "    <tr>\n",
       "      <th>0</th>\n",
       "      <td>Idk what ya’ll are mad about. I’m pretty excit...</td>\n",
       "    </tr>\n",
       "    <tr>\n",
       "      <th>1</th>\n",
       "      <td>Can't wait to see a crippled Levi fighting din...</td>\n",
       "    </tr>\n",
       "    <tr>\n",
       "      <th>2</th>\n",
       "      <td>Can't wait for when Bellen Kristein would figh...</td>\n",
       "    </tr>\n",
       "    <tr>\n",
       "      <th>3</th>\n",
       "      <td>Honestly speaking I wouldn't mind reading it (...</td>\n",
       "    </tr>\n",
       "    <tr>\n",
       "      <th>4</th>\n",
       "      <td>Beren is stunning, the ending is bad.\\nReasons...</td>\n",
       "    </tr>\n",
       "  </tbody>\n",
       "</table>\n",
       "</div>"
      ],
      "text/plain": [
       "                                            comments\n",
       "0  Idk what ya’ll are mad about. I’m pretty excit...\n",
       "1  Can't wait to see a crippled Levi fighting din...\n",
       "2  Can't wait for when Bellen Kristein would figh...\n",
       "3  Honestly speaking I wouldn't mind reading it (...\n",
       "4  Beren is stunning, the ending is bad.\\nReasons..."
      ]
     },
     "execution_count": 23,
     "metadata": {},
     "output_type": "execute_result"
    }
   ],
   "source": [
    "df.head()"
   ]
  },
  {
   "cell_type": "markdown",
   "id": "35b79be2-53b9-4537-b2f7-cb39b4991104",
   "metadata": {},
   "source": [
    "### Clean the data"
   ]
  },
  {
   "cell_type": "code",
   "execution_count": 25,
   "id": "b94e5717-88c1-4de4-ae88-e2eac8458117",
   "metadata": {},
   "outputs": [
    {
     "name": "stderr",
     "output_type": "stream",
     "text": [
      "[nltk_data] Downloading package stopwords to /Users/apple/nltk_data...\n",
      "[nltk_data]   Package stopwords is already up-to-date!\n"
     ]
    }
   ],
   "source": [
    "import re\n",
    "import nltk\n",
    "from nltk.corpus import stopwords\n",
    "import string\n",
    "\n",
    "nltk.download('stopwords')\n",
    "\n",
    "def preprocess_text(text):\n",
    "    # Convert text to lowercase\n",
    "    processed_text = text.lower()\n",
    "    # Remove URLs and user mentions\n",
    "    processed_text = re.sub(r\"http\\S+|www\\S+|https\\S+|\\/\\/t|co\\/|\\@\\w+\", '', processed_text, flags=re.MULTILINE)\n",
    "    # Remove punctuation\n",
    "    processed_text = processed_text.translate(str.maketrans('', '', string.punctuation))\n",
    "    # Remove numbers\n",
    "    processed_text = re.sub(r'\\d+', '', processed_text)\n",
    "    # Tokenize the text\n",
    "    words = processed_text.split()\n",
    "    # Remove stopwords\n",
    "    stop_words = set(stopwords.words('english'))\n",
    "    filtered_words = [word for word in words if word not in stop_words]\n",
    "    # Join the filtered words back into a string\n",
    "    processed_text = ' '.join(filtered_words)\n",
    "    return processed_text\n",
    "\n",
    "# Apply the preprocess_text() function to each comment in the 'comments' column\n",
    "df['processed_comments'] = df['comments'].apply(preprocess_text)\n"
   ]
  },
  {
   "cell_type": "code",
   "execution_count": 26,
   "id": "52aedbcf-61c0-4579-a9ec-eb119cfa9324",
   "metadata": {},
   "outputs": [
    {
     "data": {
      "text/html": [
       "<div>\n",
       "<style scoped>\n",
       "    .dataframe tbody tr th:only-of-type {\n",
       "        vertical-align: middle;\n",
       "    }\n",
       "\n",
       "    .dataframe tbody tr th {\n",
       "        vertical-align: top;\n",
       "    }\n",
       "\n",
       "    .dataframe thead th {\n",
       "        text-align: right;\n",
       "    }\n",
       "</style>\n",
       "<table border=\"1\" class=\"dataframe\">\n",
       "  <thead>\n",
       "    <tr style=\"text-align: right;\">\n",
       "      <th></th>\n",
       "      <th>comments</th>\n",
       "      <th>processed_comments</th>\n",
       "    </tr>\n",
       "  </thead>\n",
       "  <tbody>\n",
       "    <tr>\n",
       "      <th>0</th>\n",
       "      <td>Idk what ya’ll are mad about. I’m pretty excit...</td>\n",
       "      <td>idk ya’ll mad i’m pretty excited beren next ge...</td>\n",
       "    </tr>\n",
       "    <tr>\n",
       "      <th>1</th>\n",
       "      <td>Can't wait to see a crippled Levi fighting din...</td>\n",
       "      <td>cant wait see crippled levi fighting dinosaurs...</td>\n",
       "    </tr>\n",
       "    <tr>\n",
       "      <th>2</th>\n",
       "      <td>Can't wait for when Bellen Kristein would figh...</td>\n",
       "      <td>cant wait bellen kristein would fight jack unc...</td>\n",
       "    </tr>\n",
       "    <tr>\n",
       "      <th>3</th>\n",
       "      <td>Honestly speaking I wouldn't mind reading it (...</td>\n",
       "      <td>honestly speaking wouldnt mind reading beren n...</td>\n",
       "    </tr>\n",
       "    <tr>\n",
       "      <th>4</th>\n",
       "      <td>Beren is stunning, the ending is bad.\\nReasons...</td>\n",
       "      <td>beren stunning ending bad reasons alliance def...</td>\n",
       "    </tr>\n",
       "  </tbody>\n",
       "</table>\n",
       "</div>"
      ],
      "text/plain": [
       "                                            comments  \\\n",
       "0  Idk what ya’ll are mad about. I’m pretty excit...   \n",
       "1  Can't wait to see a crippled Levi fighting din...   \n",
       "2  Can't wait for when Bellen Kristein would figh...   \n",
       "3  Honestly speaking I wouldn't mind reading it (...   \n",
       "4  Beren is stunning, the ending is bad.\\nReasons...   \n",
       "\n",
       "                                  processed_comments  \n",
       "0  idk ya’ll mad i’m pretty excited beren next ge...  \n",
       "1  cant wait see crippled levi fighting dinosaurs...  \n",
       "2  cant wait bellen kristein would fight jack unc...  \n",
       "3  honestly speaking wouldnt mind reading beren n...  \n",
       "4  beren stunning ending bad reasons alliance def...  "
      ]
     },
     "execution_count": 26,
     "metadata": {},
     "output_type": "execute_result"
    }
   ],
   "source": [
    "df.head()"
   ]
  },
  {
   "cell_type": "markdown",
   "id": "d6cd5154-1ec7-43ad-9dbd-fa6d4aad9258",
   "metadata": {},
   "source": [
    "### Sentiment Analysis"
   ]
  },
  {
   "cell_type": "code",
   "execution_count": 27,
   "id": "10bb820e-ac26-4c98-8546-72d6a1b45afc",
   "metadata": {},
   "outputs": [],
   "source": [
    "from nltk.sentiment.vader import SentimentIntensityAnalyzer"
   ]
  },
  {
   "cell_type": "code",
   "execution_count": 28,
   "id": "7e178b4f-d2d8-4e06-ae27-e19e994fe97d",
   "metadata": {},
   "outputs": [],
   "source": [
    "vader = SentimentIntensityAnalyzer()"
   ]
  },
  {
   "cell_type": "code",
   "execution_count": 29,
   "id": "fb56a2c3-dd87-45df-a8ea-969a88ff4866",
   "metadata": {},
   "outputs": [],
   "source": [
    "def get_sentiment_scores(comment):\n",
    "    # Calculate sentiment scores for the comment\n",
    "    sentiment_scores = vader.polarity_scores(comment)\n",
    "    return sentiment_scores['pos'], sentiment_scores['neg'], sentiment_scores['neu'], sentiment_scores['compound']\n",
    "\n",
    "# Add new columns to the DataFrame\n",
    "df['pos_score'], df['neg_score'], df['neu_score'], df['compound_score'] = zip(*df['comments'].map(get_sentiment_scores))"
   ]
  },
  {
   "cell_type": "code",
   "execution_count": 30,
   "id": "b5ed9fac-6990-4fe4-8809-317a91750e95",
   "metadata": {},
   "outputs": [
    {
     "data": {
      "text/html": [
       "<div>\n",
       "<style scoped>\n",
       "    .dataframe tbody tr th:only-of-type {\n",
       "        vertical-align: middle;\n",
       "    }\n",
       "\n",
       "    .dataframe tbody tr th {\n",
       "        vertical-align: top;\n",
       "    }\n",
       "\n",
       "    .dataframe thead th {\n",
       "        text-align: right;\n",
       "    }\n",
       "</style>\n",
       "<table border=\"1\" class=\"dataframe\">\n",
       "  <thead>\n",
       "    <tr style=\"text-align: right;\">\n",
       "      <th></th>\n",
       "      <th>comments</th>\n",
       "      <th>processed_comments</th>\n",
       "      <th>pos_score</th>\n",
       "      <th>neg_score</th>\n",
       "      <th>neu_score</th>\n",
       "      <th>compound_score</th>\n",
       "    </tr>\n",
       "  </thead>\n",
       "  <tbody>\n",
       "    <tr>\n",
       "      <th>0</th>\n",
       "      <td>Idk what ya’ll are mad about. I’m pretty excit...</td>\n",
       "      <td>idk ya’ll mad i’m pretty excited beren next ge...</td>\n",
       "      <td>0.292</td>\n",
       "      <td>0.240</td>\n",
       "      <td>0.469</td>\n",
       "      <td>0.2500</td>\n",
       "    </tr>\n",
       "    <tr>\n",
       "      <th>1</th>\n",
       "      <td>Can't wait to see a crippled Levi fighting din...</td>\n",
       "      <td>cant wait see crippled levi fighting dinosaurs...</td>\n",
       "      <td>0.000</td>\n",
       "      <td>0.172</td>\n",
       "      <td>0.828</td>\n",
       "      <td>-0.3612</td>\n",
       "    </tr>\n",
       "    <tr>\n",
       "      <th>2</th>\n",
       "      <td>Can't wait for when Bellen Kristein would figh...</td>\n",
       "      <td>cant wait bellen kristein would fight jack unc...</td>\n",
       "      <td>0.000</td>\n",
       "      <td>0.191</td>\n",
       "      <td>0.809</td>\n",
       "      <td>-0.3818</td>\n",
       "    </tr>\n",
       "    <tr>\n",
       "      <th>3</th>\n",
       "      <td>Honestly speaking I wouldn't mind reading it (...</td>\n",
       "      <td>honestly speaking wouldnt mind reading beren n...</td>\n",
       "      <td>0.250</td>\n",
       "      <td>0.000</td>\n",
       "      <td>0.750</td>\n",
       "      <td>0.4588</td>\n",
       "    </tr>\n",
       "    <tr>\n",
       "      <th>4</th>\n",
       "      <td>Beren is stunning, the ending is bad.\\nReasons...</td>\n",
       "      <td>beren stunning ending bad reasons alliance def...</td>\n",
       "      <td>0.058</td>\n",
       "      <td>0.229</td>\n",
       "      <td>0.713</td>\n",
       "      <td>-0.9584</td>\n",
       "    </tr>\n",
       "  </tbody>\n",
       "</table>\n",
       "</div>"
      ],
      "text/plain": [
       "                                            comments  \\\n",
       "0  Idk what ya’ll are mad about. I’m pretty excit...   \n",
       "1  Can't wait to see a crippled Levi fighting din...   \n",
       "2  Can't wait for when Bellen Kristein would figh...   \n",
       "3  Honestly speaking I wouldn't mind reading it (...   \n",
       "4  Beren is stunning, the ending is bad.\\nReasons...   \n",
       "\n",
       "                                  processed_comments  pos_score  neg_score  \\\n",
       "0  idk ya’ll mad i’m pretty excited beren next ge...      0.292      0.240   \n",
       "1  cant wait see crippled levi fighting dinosaurs...      0.000      0.172   \n",
       "2  cant wait bellen kristein would fight jack unc...      0.000      0.191   \n",
       "3  honestly speaking wouldnt mind reading beren n...      0.250      0.000   \n",
       "4  beren stunning ending bad reasons alliance def...      0.058      0.229   \n",
       "\n",
       "   neu_score  compound_score  \n",
       "0      0.469          0.2500  \n",
       "1      0.828         -0.3612  \n",
       "2      0.809         -0.3818  \n",
       "3      0.750          0.4588  \n",
       "4      0.713         -0.9584  "
      ]
     },
     "execution_count": 30,
     "metadata": {},
     "output_type": "execute_result"
    }
   ],
   "source": [
    "df.head()"
   ]
  },
  {
   "cell_type": "markdown",
   "id": "dd0d62cf-e6ed-4ce5-992c-cb30d0e7abed",
   "metadata": {},
   "source": [
    "The data frame above shows positive score, negative score, neutral score, and the compound score for each comment."
   ]
  },
  {
   "cell_type": "code",
   "execution_count": 31,
   "id": "03e4e1fb-9b86-4351-8fd1-af21fbe7c27d",
   "metadata": {},
   "outputs": [],
   "source": [
    "# add a new column sentiment, if the compound score >= 0.05, return pos, and if score > -0.05, return neg\n",
    "df['sentiment'] = df['compound_score'].apply(lambda score: 'pos' if score >= 0.05 else ('neu' if score > -0.05 else 'neg'))"
   ]
  },
  {
   "cell_type": "code",
   "execution_count": 32,
   "id": "5e18de4f-44c4-490b-ad0b-b67afe2e2b2f",
   "metadata": {},
   "outputs": [
    {
     "data": {
      "text/html": [
       "<div>\n",
       "<style scoped>\n",
       "    .dataframe tbody tr th:only-of-type {\n",
       "        vertical-align: middle;\n",
       "    }\n",
       "\n",
       "    .dataframe tbody tr th {\n",
       "        vertical-align: top;\n",
       "    }\n",
       "\n",
       "    .dataframe thead th {\n",
       "        text-align: right;\n",
       "    }\n",
       "</style>\n",
       "<table border=\"1\" class=\"dataframe\">\n",
       "  <thead>\n",
       "    <tr style=\"text-align: right;\">\n",
       "      <th></th>\n",
       "      <th>comments</th>\n",
       "      <th>processed_comments</th>\n",
       "      <th>pos_score</th>\n",
       "      <th>neg_score</th>\n",
       "      <th>neu_score</th>\n",
       "      <th>compound_score</th>\n",
       "      <th>sentiment</th>\n",
       "    </tr>\n",
       "  </thead>\n",
       "  <tbody>\n",
       "    <tr>\n",
       "      <th>0</th>\n",
       "      <td>Idk what ya’ll are mad about. I’m pretty excit...</td>\n",
       "      <td>idk ya’ll mad i’m pretty excited beren next ge...</td>\n",
       "      <td>0.292</td>\n",
       "      <td>0.240</td>\n",
       "      <td>0.469</td>\n",
       "      <td>0.2500</td>\n",
       "      <td>pos</td>\n",
       "    </tr>\n",
       "    <tr>\n",
       "      <th>1</th>\n",
       "      <td>Can't wait to see a crippled Levi fighting din...</td>\n",
       "      <td>cant wait see crippled levi fighting dinosaurs...</td>\n",
       "      <td>0.000</td>\n",
       "      <td>0.172</td>\n",
       "      <td>0.828</td>\n",
       "      <td>-0.3612</td>\n",
       "      <td>neg</td>\n",
       "    </tr>\n",
       "    <tr>\n",
       "      <th>2</th>\n",
       "      <td>Can't wait for when Bellen Kristein would figh...</td>\n",
       "      <td>cant wait bellen kristein would fight jack unc...</td>\n",
       "      <td>0.000</td>\n",
       "      <td>0.191</td>\n",
       "      <td>0.809</td>\n",
       "      <td>-0.3818</td>\n",
       "      <td>neg</td>\n",
       "    </tr>\n",
       "    <tr>\n",
       "      <th>3</th>\n",
       "      <td>Honestly speaking I wouldn't mind reading it (...</td>\n",
       "      <td>honestly speaking wouldnt mind reading beren n...</td>\n",
       "      <td>0.250</td>\n",
       "      <td>0.000</td>\n",
       "      <td>0.750</td>\n",
       "      <td>0.4588</td>\n",
       "      <td>pos</td>\n",
       "    </tr>\n",
       "    <tr>\n",
       "      <th>4</th>\n",
       "      <td>Beren is stunning, the ending is bad.\\nReasons...</td>\n",
       "      <td>beren stunning ending bad reasons alliance def...</td>\n",
       "      <td>0.058</td>\n",
       "      <td>0.229</td>\n",
       "      <td>0.713</td>\n",
       "      <td>-0.9584</td>\n",
       "      <td>neg</td>\n",
       "    </tr>\n",
       "  </tbody>\n",
       "</table>\n",
       "</div>"
      ],
      "text/plain": [
       "                                            comments  \\\n",
       "0  Idk what ya’ll are mad about. I’m pretty excit...   \n",
       "1  Can't wait to see a crippled Levi fighting din...   \n",
       "2  Can't wait for when Bellen Kristein would figh...   \n",
       "3  Honestly speaking I wouldn't mind reading it (...   \n",
       "4  Beren is stunning, the ending is bad.\\nReasons...   \n",
       "\n",
       "                                  processed_comments  pos_score  neg_score  \\\n",
       "0  idk ya’ll mad i’m pretty excited beren next ge...      0.292      0.240   \n",
       "1  cant wait see crippled levi fighting dinosaurs...      0.000      0.172   \n",
       "2  cant wait bellen kristein would fight jack unc...      0.000      0.191   \n",
       "3  honestly speaking wouldnt mind reading beren n...      0.250      0.000   \n",
       "4  beren stunning ending bad reasons alliance def...      0.058      0.229   \n",
       "\n",
       "   neu_score  compound_score sentiment  \n",
       "0      0.469          0.2500       pos  \n",
       "1      0.828         -0.3612       neg  \n",
       "2      0.809         -0.3818       neg  \n",
       "3      0.750          0.4588       pos  \n",
       "4      0.713         -0.9584       neg  "
      ]
     },
     "execution_count": 32,
     "metadata": {},
     "output_type": "execute_result"
    }
   ],
   "source": [
    "df.head()"
   ]
  },
  {
   "cell_type": "code",
   "execution_count": 33,
   "id": "15044b68-22a0-48b7-81d2-6373ab87e815",
   "metadata": {},
   "outputs": [
    {
     "name": "stdout",
     "output_type": "stream",
     "text": [
      "  Sentiment  Count\n",
      "0       pos     91\n",
      "1       neg     82\n",
      "2       neu     22\n"
     ]
    }
   ],
   "source": [
    "# Count the number of occurrences of each sentiment label\n",
    "sentiment_counts = df['sentiment'].value_counts()\n",
    "\n",
    "# Create a new DataFrame with the counts\n",
    "sentiment_counts_df = pd.DataFrame(sentiment_counts.items(), columns=['Sentiment', 'Count'])\n",
    "\n",
    "# Display the DataFrame with the counts\n",
    "print(sentiment_counts_df)"
   ]
  },
  {
   "cell_type": "code",
   "execution_count": null,
   "id": "3c71beb5-c183-47ee-b3cc-6260461c7e2b",
   "metadata": {},
   "outputs": [],
   "source": []
  }
 ],
 "metadata": {
  "kernelspec": {
   "display_name": "Python 3 (ipykernel)",
   "language": "python",
   "name": "python3"
  },
  "language_info": {
   "codemirror_mode": {
    "name": "ipython",
    "version": 3
   },
   "file_extension": ".py",
   "mimetype": "text/x-python",
   "name": "python",
   "nbconvert_exporter": "python",
   "pygments_lexer": "ipython3",
   "version": "3.9.18"
  }
 },
 "nbformat": 4,
 "nbformat_minor": 5
}
